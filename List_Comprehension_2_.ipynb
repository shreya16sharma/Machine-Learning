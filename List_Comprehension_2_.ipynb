{
  "nbformat": 4,
  "nbformat_minor": 0,
  "metadata": {
    "colab": {
      "name": "List Comprehension 2 .ipynb",
      "provenance": [],
      "authorship_tag": "ABX9TyPKkDAw2iA/QGyK39rS8Ce8",
      "include_colab_link": true
    },
    "kernelspec": {
      "name": "python3",
      "display_name": "Python 3"
    },
    "language_info": {
      "name": "python"
    }
  },
  "cells": [
    {
      "cell_type": "markdown",
      "metadata": {
        "id": "view-in-github",
        "colab_type": "text"
      },
      "source": [
        "<a href=\"https://colab.research.google.com/github/shreya16sharma/Machine-Learning/blob/main/List_Comprehension_2_.ipynb\" target=\"_parent\"><img src=\"https://colab.research.google.com/assets/colab-badge.svg\" alt=\"Open In Colab\"/></a>"
      ]
    },
    {
      "cell_type": "code",
      "execution_count": 2,
      "metadata": {
        "colab": {
          "base_uri": "https://localhost:8080/"
        },
        "id": "83EGKeNINFUA",
        "outputId": "aae18194-d257-4b56-88eb-a07ee58a1fbd"
      },
      "outputs": [
        {
          "output_type": "execute_result",
          "data": {
            "text/plain": [
              "[(0, 'hi'), (1, 129), (2, 3), (3, 4), (4, (0.1, 'hi'))]"
            ]
          },
          "metadata": {},
          "execution_count": 2
        }
      ],
      "source": [
        "# Get the index and value at the tuple for item in the list\n",
        "items=['hi',129,3,4,(0.1,'hi')]\n",
        "[(index,value) for index,value in enumerate(items)]"
      ]
    },
    {
      "cell_type": "code",
      "source": [
        "# Find the common numbers in the 2 list using list comprehension\n",
        "l1=[1,2,3,4,5,6,7]\n",
        "l2=[4,5,6,7,8,9,10,11]\n",
        "[i  for i in l1 for j in l2 if i==j]\n",
        "[i  for i in l1 if i in l2]"
      ],
      "metadata": {
        "colab": {
          "base_uri": "https://localhost:8080/"
        },
        "id": "Ra6bqnznOxfZ",
        "outputId": "dcfc74a0-34c2-44d6-f0ee-398b7695d574"
      },
      "execution_count": 3,
      "outputs": [
        {
          "output_type": "execute_result",
          "data": {
            "text/plain": [
              "[4, 5, 6, 7]"
            ]
          },
          "metadata": {},
          "execution_count": 3
        }
      ]
    },
    {
      "cell_type": "code",
      "source": [
        "# Count the number of letters\n",
        "sentence=\"I Love CSIT Department\"\n",
        "l1=[i  for i in sentence if i==' ']\n",
        "print(len(l1))"
      ],
      "metadata": {
        "colab": {
          "base_uri": "https://localhost:8080/"
        },
        "id": "r-92VAGePeNJ",
        "outputId": "32d1dbbe-739e-423a-b0af-e5a493238832"
      },
      "execution_count": 5,
      "outputs": [
        {
          "output_type": "stream",
          "name": "stdout",
          "text": [
            "3\n"
          ]
        }
      ]
    },
    {
      "cell_type": "code",
      "source": [
        "# Count the number of words\n",
        "sentence=\"I Love CSIT Department\"\n",
        "i=sentence.split()\n",
        "[j  for j in i]"
      ],
      "metadata": {
        "colab": {
          "base_uri": "https://localhost:8080/"
        },
        "id": "IoY3qq6CQXBC",
        "outputId": "852328b0-98df-4ea3-ebf9-e3e24c1ee116"
      },
      "execution_count": 7,
      "outputs": [
        {
          "output_type": "execute_result",
          "data": {
            "text/plain": [
              "['I', 'Love', 'CSIT', 'Department']"
            ]
          },
          "metadata": {},
          "execution_count": 7
        }
      ]
    },
    {
      "cell_type": "code",
      "source": [
        "# Count the number of words which are not alpha numeric\n",
        "sentence=\"This is CSIT 1984  60\"\n",
        "i=sentence.split()\n",
        "[j  for j in i if not j.isalpha()]\n"
      ],
      "metadata": {
        "colab": {
          "base_uri": "https://localhost:8080/"
        },
        "id": "RNFSebdDRKkR",
        "outputId": "2058fc19-bc8b-465c-d61d-40381915f4f6"
      },
      "execution_count": 11,
      "outputs": [
        {
          "output_type": "execute_result",
          "data": {
            "text/plain": [
              "['1984', '60']"
            ]
          },
          "metadata": {},
          "execution_count": 11
        }
      ]
    },
    {
      "cell_type": "code",
      "source": [
        "# Print the number of words having characters greater than 4\n",
        "sentence=\"This is CSIT 1984 60\"\n",
        "l1=[j  for j in sentence.split() if j.isalpha() and len(j)>=4]\n",
        "print(len(l1))"
      ],
      "metadata": {
        "colab": {
          "base_uri": "https://localhost:8080/"
        },
        "id": "LQZ0S16zSNTJ",
        "outputId": "e076ce3f-80a0-4e60-d037-549785e5568b"
      },
      "execution_count": 20,
      "outputs": [
        {
          "output_type": "stream",
          "name": "stdout",
          "text": [
            "2\n"
          ]
        }
      ]
    },
    {
      "cell_type": "code",
      "source": [
        "# Use a nested list comprehension to find all the numbers that in range 1 to 100 that are divisible by any digit between 2 to 9\n",
        "[i  for j in range(2,10) for i in range(1,101) if i%j==0]"
      ],
      "metadata": {
        "colab": {
          "base_uri": "https://localhost:8080/"
        },
        "id": "L-vW_iyBTgHR",
        "outputId": "02ebd461-f054-43ce-f236-ff3697f94d03"
      },
      "execution_count": 24,
      "outputs": [
        {
          "output_type": "execute_result",
          "data": {
            "text/plain": [
              "[2,\n",
              " 4,\n",
              " 6,\n",
              " 8,\n",
              " 10,\n",
              " 12,\n",
              " 14,\n",
              " 16,\n",
              " 18,\n",
              " 20,\n",
              " 22,\n",
              " 24,\n",
              " 26,\n",
              " 28,\n",
              " 30,\n",
              " 32,\n",
              " 34,\n",
              " 36,\n",
              " 38,\n",
              " 40,\n",
              " 42,\n",
              " 44,\n",
              " 46,\n",
              " 48,\n",
              " 50,\n",
              " 52,\n",
              " 54,\n",
              " 56,\n",
              " 58,\n",
              " 60,\n",
              " 62,\n",
              " 64,\n",
              " 66,\n",
              " 68,\n",
              " 70,\n",
              " 72,\n",
              " 74,\n",
              " 76,\n",
              " 78,\n",
              " 80,\n",
              " 82,\n",
              " 84,\n",
              " 86,\n",
              " 88,\n",
              " 90,\n",
              " 92,\n",
              " 94,\n",
              " 96,\n",
              " 98,\n",
              " 100,\n",
              " 3,\n",
              " 6,\n",
              " 9,\n",
              " 12,\n",
              " 15,\n",
              " 18,\n",
              " 21,\n",
              " 24,\n",
              " 27,\n",
              " 30,\n",
              " 33,\n",
              " 36,\n",
              " 39,\n",
              " 42,\n",
              " 45,\n",
              " 48,\n",
              " 51,\n",
              " 54,\n",
              " 57,\n",
              " 60,\n",
              " 63,\n",
              " 66,\n",
              " 69,\n",
              " 72,\n",
              " 75,\n",
              " 78,\n",
              " 81,\n",
              " 84,\n",
              " 87,\n",
              " 90,\n",
              " 93,\n",
              " 96,\n",
              " 99,\n",
              " 4,\n",
              " 8,\n",
              " 12,\n",
              " 16,\n",
              " 20,\n",
              " 24,\n",
              " 28,\n",
              " 32,\n",
              " 36,\n",
              " 40,\n",
              " 44,\n",
              " 48,\n",
              " 52,\n",
              " 56,\n",
              " 60,\n",
              " 64,\n",
              " 68,\n",
              " 72,\n",
              " 76,\n",
              " 80,\n",
              " 84,\n",
              " 88,\n",
              " 92,\n",
              " 96,\n",
              " 100,\n",
              " 5,\n",
              " 10,\n",
              " 15,\n",
              " 20,\n",
              " 25,\n",
              " 30,\n",
              " 35,\n",
              " 40,\n",
              " 45,\n",
              " 50,\n",
              " 55,\n",
              " 60,\n",
              " 65,\n",
              " 70,\n",
              " 75,\n",
              " 80,\n",
              " 85,\n",
              " 90,\n",
              " 95,\n",
              " 100,\n",
              " 6,\n",
              " 12,\n",
              " 18,\n",
              " 24,\n",
              " 30,\n",
              " 36,\n",
              " 42,\n",
              " 48,\n",
              " 54,\n",
              " 60,\n",
              " 66,\n",
              " 72,\n",
              " 78,\n",
              " 84,\n",
              " 90,\n",
              " 96,\n",
              " 7,\n",
              " 14,\n",
              " 21,\n",
              " 28,\n",
              " 35,\n",
              " 42,\n",
              " 49,\n",
              " 56,\n",
              " 63,\n",
              " 70,\n",
              " 77,\n",
              " 84,\n",
              " 91,\n",
              " 98,\n",
              " 8,\n",
              " 16,\n",
              " 24,\n",
              " 32,\n",
              " 40,\n",
              " 48,\n",
              " 56,\n",
              " 64,\n",
              " 72,\n",
              " 80,\n",
              " 88,\n",
              " 96,\n",
              " 9,\n",
              " 18,\n",
              " 27,\n",
              " 36,\n",
              " 45,\n",
              " 54,\n",
              " 63,\n",
              " 72,\n",
              " 81,\n",
              " 90,\n",
              " 99]"
            ]
          },
          "metadata": {},
          "execution_count": 24
        }
      ]
    }
  ]
}